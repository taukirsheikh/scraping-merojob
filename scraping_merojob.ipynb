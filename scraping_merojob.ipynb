{
  "nbformat": 4,
  "nbformat_minor": 0,
  "metadata": {
    "colab": {
      "provenance": []
    },
    "kernelspec": {
      "name": "python3",
      "display_name": "Python 3"
    },
    "language_info": {
      "name": "python"
    }
  },
  "cells": [
    {
      "cell_type": "code",
      "execution_count": null,
      "metadata": {
        "id": "Ag2pRIENXHRG"
      },
      "outputs": [],
      "source": [
        "import requests\n",
        "from bs4 import BeautifulSoup\n",
        "import csv\n",
        "from datetime import datetime"
      ]
    },
    {
      "cell_type": "code",
      "source": [
        "  def get_url(position):\n",
        "    \"generate a url based on the postion passed\"\n",
        "    template = 'https://merojob.com/search/?q={}'\n",
        "    url=template.format(position)\n",
        "    return url"
      ],
      "metadata": {
        "id": "CAQxzQAPXamb"
      },
      "execution_count": null,
      "outputs": []
    },
    {
      "cell_type": "code",
      "source": [],
      "metadata": {
        "id": "0iRq7AOaXaWU"
      },
      "execution_count": null,
      "outputs": []
    },
    {
      "cell_type": "code",
      "source": [
        "def get_record(card):\n",
        "  \"\"\"Extract the job data from a single record\"\"\"\n",
        "  a_tag=card.h1.a\n",
        "  \n",
        "  job_title=a_tag.get('title') \n",
        "  # print(job_title)\n",
        "  job_url='https://www.merojob.com'+a_tag.get('href')\n",
        "  # print(job_url)\n",
        "  a_tag2=card.h3.a\n",
        "  h_tag=card.h3\n",
        "  company=a_tag2.text.strip()\n",
        "  # print(company)\n",
        "  company_postings='https://merojob.com'+a_tag2.get('href')\n",
        "  # print(company_postings)\n",
        "  location_element = card.find('span',itemprop='addressLocality')\n",
        "  job_location = location_element.text.strip()\n",
        "  # print(job_location)\n",
        "  skills=card.find('span',itemprop='skills').text\n",
        "  skills=skills.replace('\\n',' ')\n",
        "  # print(skills)\n",
        "  apply_before=card.find('span', class_='icon-time').next_sibling.next_sibling.text\n",
        "  apply_before=apply_before.replace('\\xa0',' ')\n",
        "  today=datetime.today().strftime('%Y-%m-%d')\n",
        "  # print(today)\n",
        "  try:\n",
        "\n",
        "    views=card.find('span', class_='icon').next_sibling.strip()\n",
        "    # print(views)\n",
        "  except AttributeError:\n",
        "    views='0'\n",
        "  record=(job_title,company,job_url,company_postings,job_location,skills,apply_before,today)\n",
        "   \n",
        "    \n",
        "  return record"
      ],
      "metadata": {
        "id": "dMBprad3XymB"
      },
      "execution_count": null,
      "outputs": []
    },
    {
      "cell_type": "code",
      "source": [
        "def main(position):\n",
        "  records = []\n",
        "  url=get_url('python')\n",
        "\n",
        "  while True:\n",
        "      try:\n",
        "          response = requests.get(url)\n",
        "          soup = BeautifulSoup(response.text, 'html.parser')\n",
        "          \n",
        "          cards = soup.find_all('div', itemtype='http://schema.org/JobPosting')\n",
        "          for card in cards:\n",
        "              record = get_record(card)\n",
        "              records.append(record)\n",
        "\n",
        "          next_page_link = soup.find('a', {'class': 'pagination-next'})\n",
        "          if next_page_link is None:\n",
        "              break\n",
        "\n",
        "          url = 'https://merojob.com' + next_page_link.get('href')\n",
        "\n",
        "      except Exception as e:\n",
        "          print(f\"An error occurred: {e}\")\n",
        "          break\n",
        "  with open('results.csv','w',newline='', encoding='utf-8') as f:\n",
        "    writer=csv.writer(f)\n",
        "    writer.writerow(['job_title','company','job_url','company_postings','job_location','skills','apply_before','today'])\n",
        "    writer.writerows(records)\n",
        "\n"
      ],
      "metadata": {
        "id": "OvGMYOslX2CF"
      },
      "execution_count": null,
      "outputs": []
    },
    {
      "cell_type": "code",
      "source": [
        "# records\n",
        "main('python')\n"
      ],
      "metadata": {
        "id": "Ga6s2NAuaZ3G"
      },
      "execution_count": null,
      "outputs": []
    },
    {
      "cell_type": "code",
      "source": [
        "import pandas as pd"
      ],
      "metadata": {
        "id": "7EgSHpXgaeLg"
      },
      "execution_count": null,
      "outputs": []
    },
    {
      "cell_type": "code",
      "source": [
        "df = pd.read_csv('results.csv')"
      ],
      "metadata": {
        "id": "lk8M_RD7jrR0"
      },
      "execution_count": null,
      "outputs": []
    },
    {
      "cell_type": "code",
      "source": [
        "df.head(1)"
      ],
      "metadata": {
        "colab": {
          "base_uri": "https://localhost:8080/",
          "height": 197
        },
        "id": "7QOL5ozhjv7V",
        "outputId": "76b7aff5-86f1-4868-c055-dc4faf228243"
      },
      "execution_count": null,
      "outputs": [
        {
          "output_type": "execute_result",
          "data": {
            "text/plain": [
              "                  job_title              company  \\\n",
              "0  Data Engineering Manager  Cedar Gate Services   \n",
              "\n",
              "                                             job_url  \\\n",
              "0  https://www.merojob.com/data-engineering-manager/   \n",
              "\n",
              "                                    company_postings     job_location  \\\n",
              "0  https://merojob.com/employer/cedar-gate-servic...  Lalitpur, Nepal   \n",
              "\n",
              "                                              skills  \\\n",
              "0   Interpersonal Skills Communication Sql Python...   \n",
              "\n",
              "                     apply_before       today  \n",
              "0  Apply Before: 2 weeks from now  2023-05-25  "
            ],
            "text/html": [
              "\n",
              "  <div id=\"df-42512385-69d5-4cf5-b95d-80bb25c088c0\">\n",
              "    <div class=\"colab-df-container\">\n",
              "      <div>\n",
              "<style scoped>\n",
              "    .dataframe tbody tr th:only-of-type {\n",
              "        vertical-align: middle;\n",
              "    }\n",
              "\n",
              "    .dataframe tbody tr th {\n",
              "        vertical-align: top;\n",
              "    }\n",
              "\n",
              "    .dataframe thead th {\n",
              "        text-align: right;\n",
              "    }\n",
              "</style>\n",
              "<table border=\"1\" class=\"dataframe\">\n",
              "  <thead>\n",
              "    <tr style=\"text-align: right;\">\n",
              "      <th></th>\n",
              "      <th>job_title</th>\n",
              "      <th>company</th>\n",
              "      <th>job_url</th>\n",
              "      <th>company_postings</th>\n",
              "      <th>job_location</th>\n",
              "      <th>skills</th>\n",
              "      <th>apply_before</th>\n",
              "      <th>today</th>\n",
              "    </tr>\n",
              "  </thead>\n",
              "  <tbody>\n",
              "    <tr>\n",
              "      <th>0</th>\n",
              "      <td>Data Engineering Manager</td>\n",
              "      <td>Cedar Gate Services</td>\n",
              "      <td>https://www.merojob.com/data-engineering-manager/</td>\n",
              "      <td>https://merojob.com/employer/cedar-gate-servic...</td>\n",
              "      <td>Lalitpur, Nepal</td>\n",
              "      <td>Interpersonal Skills Communication Sql Python...</td>\n",
              "      <td>Apply Before: 2 weeks from now</td>\n",
              "      <td>2023-05-25</td>\n",
              "    </tr>\n",
              "  </tbody>\n",
              "</table>\n",
              "</div>\n",
              "      <button class=\"colab-df-convert\" onclick=\"convertToInteractive('df-42512385-69d5-4cf5-b95d-80bb25c088c0')\"\n",
              "              title=\"Convert this dataframe to an interactive table.\"\n",
              "              style=\"display:none;\">\n",
              "        \n",
              "  <svg xmlns=\"http://www.w3.org/2000/svg\" height=\"24px\"viewBox=\"0 0 24 24\"\n",
              "       width=\"24px\">\n",
              "    <path d=\"M0 0h24v24H0V0z\" fill=\"none\"/>\n",
              "    <path d=\"M18.56 5.44l.94 2.06.94-2.06 2.06-.94-2.06-.94-.94-2.06-.94 2.06-2.06.94zm-11 1L8.5 8.5l.94-2.06 2.06-.94-2.06-.94L8.5 2.5l-.94 2.06-2.06.94zm10 10l.94 2.06.94-2.06 2.06-.94-2.06-.94-.94-2.06-.94 2.06-2.06.94z\"/><path d=\"M17.41 7.96l-1.37-1.37c-.4-.4-.92-.59-1.43-.59-.52 0-1.04.2-1.43.59L10.3 9.45l-7.72 7.72c-.78.78-.78 2.05 0 2.83L4 21.41c.39.39.9.59 1.41.59.51 0 1.02-.2 1.41-.59l7.78-7.78 2.81-2.81c.8-.78.8-2.07 0-2.86zM5.41 20L4 18.59l7.72-7.72 1.47 1.35L5.41 20z\"/>\n",
              "  </svg>\n",
              "      </button>\n",
              "      \n",
              "  <style>\n",
              "    .colab-df-container {\n",
              "      display:flex;\n",
              "      flex-wrap:wrap;\n",
              "      gap: 12px;\n",
              "    }\n",
              "\n",
              "    .colab-df-convert {\n",
              "      background-color: #E8F0FE;\n",
              "      border: none;\n",
              "      border-radius: 50%;\n",
              "      cursor: pointer;\n",
              "      display: none;\n",
              "      fill: #1967D2;\n",
              "      height: 32px;\n",
              "      padding: 0 0 0 0;\n",
              "      width: 32px;\n",
              "    }\n",
              "\n",
              "    .colab-df-convert:hover {\n",
              "      background-color: #E2EBFA;\n",
              "      box-shadow: 0px 1px 2px rgba(60, 64, 67, 0.3), 0px 1px 3px 1px rgba(60, 64, 67, 0.15);\n",
              "      fill: #174EA6;\n",
              "    }\n",
              "\n",
              "    [theme=dark] .colab-df-convert {\n",
              "      background-color: #3B4455;\n",
              "      fill: #D2E3FC;\n",
              "    }\n",
              "\n",
              "    [theme=dark] .colab-df-convert:hover {\n",
              "      background-color: #434B5C;\n",
              "      box-shadow: 0px 1px 3px 1px rgba(0, 0, 0, 0.15);\n",
              "      filter: drop-shadow(0px 1px 2px rgba(0, 0, 0, 0.3));\n",
              "      fill: #FFFFFF;\n",
              "    }\n",
              "  </style>\n",
              "\n",
              "      <script>\n",
              "        const buttonEl =\n",
              "          document.querySelector('#df-42512385-69d5-4cf5-b95d-80bb25c088c0 button.colab-df-convert');\n",
              "        buttonEl.style.display =\n",
              "          google.colab.kernel.accessAllowed ? 'block' : 'none';\n",
              "\n",
              "        async function convertToInteractive(key) {\n",
              "          const element = document.querySelector('#df-42512385-69d5-4cf5-b95d-80bb25c088c0');\n",
              "          const dataTable =\n",
              "            await google.colab.kernel.invokeFunction('convertToInteractive',\n",
              "                                                     [key], {});\n",
              "          if (!dataTable) return;\n",
              "\n",
              "          const docLinkHtml = 'Like what you see? Visit the ' +\n",
              "            '<a target=\"_blank\" href=https://colab.research.google.com/notebooks/data_table.ipynb>data table notebook</a>'\n",
              "            + ' to learn more about interactive tables.';\n",
              "          element.innerHTML = '';\n",
              "          dataTable['output_type'] = 'display_data';\n",
              "          await google.colab.output.renderOutput(dataTable, element);\n",
              "          const docLink = document.createElement('div');\n",
              "          docLink.innerHTML = docLinkHtml;\n",
              "          element.appendChild(docLink);\n",
              "        }\n",
              "      </script>\n",
              "    </div>\n",
              "  </div>\n",
              "  "
            ]
          },
          "metadata": {},
          "execution_count": 26
        }
      ]
    },
    {
      "cell_type": "code",
      "source": [
        "df.to_json('results1.json',orient='records')"
      ],
      "metadata": {
        "id": "gI1i41RkjxhR"
      },
      "execution_count": null,
      "outputs": []
    },
    {
      "cell_type": "code",
      "source": [
        "import json\n",
        "\n",
        "# Open the JSON file\n",
        "with open('results1.json', 'r') as file:\n",
        "    # Load the JSON data\n",
        "    data = json.load(file)\n",
        "\n",
        "\n",
        "\n"
      ],
      "metadata": {
        "id": "qlZCJcTUkD_d"
      },
      "execution_count": null,
      "outputs": []
    },
    {
      "cell_type": "code",
      "source": [
        "sth = requests.get(data[0]['job_url'])"
      ],
      "metadata": {
        "id": "N4jmFsPIkKbJ"
      },
      "execution_count": null,
      "outputs": []
    },
    {
      "cell_type": "code",
      "source": [
        "sth.reason"
      ],
      "metadata": {
        "colab": {
          "base_uri": "https://localhost:8080/",
          "height": 35
        },
        "id": "Pnn5fk5Qm4nQ",
        "outputId": "38760110-ad73-44f2-8730-799a10d89e2c"
      },
      "execution_count": null,
      "outputs": [
        {
          "output_type": "execute_result",
          "data": {
            "text/plain": [
              "'OK'"
            ],
            "application/vnd.google.colaboratory.intrinsic+json": {
              "type": "string"
            }
          },
          "metadata": {},
          "execution_count": 38
        }
      ]
    },
    {
      "cell_type": "code",
      "source": [],
      "metadata": {
        "id": "LnJy_r-Fnbkl"
      },
      "execution_count": null,
      "outputs": []
    }
  ]
}